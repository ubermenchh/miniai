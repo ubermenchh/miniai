{
 "cells": [
  {
   "cell_type": "code",
   "execution_count": 1,
   "id": "ec2a0461-ce91-4b75-bf45-252e3b099a66",
   "metadata": {
    "tags": []
   },
   "outputs": [],
   "source": [
    "#|default_exp datasets"
   ]
  },
  {
   "cell_type": "code",
   "execution_count": 2,
   "id": "2971e955-cb6a-4d47-a8e5-9145dcebe199",
   "metadata": {
    "tags": []
   },
   "outputs": [],
   "source": [
    "#|export\n",
    "from __future__ import annotations\n",
    "import math, numpy as np, matplotlib.pyplot as plt\n",
    "from operator import itemgetter\n",
    "from itertools import zip_longest\n",
    "import fastcore.all as fc\n",
    "\n",
    "from torch.utils.data import default_collate\n",
    "\n",
    "from miniai.training import *"
   ]
  },
  {
   "cell_type": "code",
   "execution_count": 4,
   "id": "d6b2cab2-67aa-4e96-9ed0-ba85f3cad720",
   "metadata": {},
   "outputs": [],
   "source": [
    "import logging,pickle,gzip,os,time,shutil,torch,matplotlib as mpl\n",
    "from pathlib import Path\n",
    "\n",
    "from torch import tensor,nn,optim\n",
    "from torch.utils.data import DataLoader\n",
    "import torch.nn.functional as F\n",
    "from datasets import load_dataset,load_dataset_builder\n",
    "\n",
    "import torchvision.transforms.functional as TF\n",
    "from fastcore.test import test_close"
   ]
  },
  {
   "cell_type": "code",
   "execution_count": 5,
   "id": "dba5ced9-e085-47b5-941c-bb340f27effd",
   "metadata": {
    "tags": []
   },
   "outputs": [],
   "source": [
    "torch.set_printoptions(precision=2, linewidth=140, sci_mode=False)\n",
    "torch.manual_seed(1)\n",
    "mpl.rcParams['image.cmap'] = 'gray'"
   ]
  },
  {
   "cell_type": "code",
   "execution_count": 7,
   "id": "cb3a9a4a-f06a-4c3f-8fa4-4a9635e52f7d",
   "metadata": {
    "tags": []
   },
   "outputs": [],
   "source": [
    "logging.disable(logging.WARNING)"
   ]
  },
  {
   "cell_type": "markdown",
   "id": "4d7d574c-d3d8-4cbf-9888-55d1fa96b558",
   "metadata": {},
   "source": [
    "# HuggingFace Datasets"
   ]
  },
  {
   "cell_type": "code",
   "execution_count": 8,
   "id": "cf4cf032-85ab-46af-8283-008d9b2069f0",
   "metadata": {
    "tags": []
   },
   "outputs": [
    {
     "name": "stdout",
     "output_type": "stream",
     "text": [
      "Fashion-MNIST is a dataset of Zalando's article images—consisting of a training set of\n",
      "60,000 examples and a test set of 10,000 examples. Each example is a 28x28 grayscale image,\n",
      "associated with a label from 10 classes. We intend Fashion-MNIST to serve as a direct drop-in\n",
      "replacement for the original MNIST dataset for benchmarking machine learning algorithms.\n",
      "It shares the same image size and structure of training and testing splits.\n",
      "\n"
     ]
    }
   ],
   "source": [
    "name = 'fashion_mnist'\n",
    "ds_builder = load_dataset_builder(name)\n",
    "print(ds_builder.info.description)"
   ]
  },
  {
   "cell_type": "code",
   "execution_count": 9,
   "id": "59ac9c84-0cb8-4b4b-88ef-c27319fb2cf5",
   "metadata": {
    "tags": []
   },
   "outputs": [
    {
     "data": {
      "text/plain": [
       "{'image': Image(decode=True, id=None),\n",
       " 'label': ClassLabel(num_classes=10, names=['T - shirt / top', 'Trouser', 'Pullover', 'Dress', 'Coat', 'Sandal', 'Shirt', 'Sneaker', 'Bag', 'Ankle boot'], id=None)}"
      ]
     },
     "execution_count": 9,
     "metadata": {},
     "output_type": "execute_result"
    }
   ],
   "source": [
    "ds_builder.info.features"
   ]
  },
  {
   "cell_type": "code",
   "execution_count": 10,
   "id": "233a3400-7978-40fe-b2ac-46913e771974",
   "metadata": {
    "tags": []
   },
   "outputs": [
    {
     "data": {
      "text/plain": [
       "{'train': SplitInfo(name='train', num_bytes=31296607, num_examples=60000, dataset_name='fashion_mnist'),\n",
       " 'test': SplitInfo(name='test', num_bytes=5233810, num_examples=10000, dataset_name='fashion_mnist')}"
      ]
     },
     "execution_count": 10,
     "metadata": {},
     "output_type": "execute_result"
    }
   ],
   "source": [
    "ds_builder.info.splits"
   ]
  },
  {
   "cell_type": "code",
   "execution_count": 11,
   "id": "25289601-57b2-474e-8bbc-6e0c2593f8f5",
   "metadata": {
    "tags": []
   },
   "outputs": [
    {
     "data": {
      "application/json": {
       "ascii": false,
       "bar_format": null,
       "colour": null,
       "elapsed": 0.007784605026245117,
       "initial": 0,
       "n": 0,
       "ncols": null,
       "nrows": 54,
       "postfix": null,
       "prefix": "",
       "rate": null,
       "total": 2,
       "unit": "it",
       "unit_divisor": 1000,
       "unit_scale": false
      },
      "application/vnd.jupyter.widget-view+json": {
       "model_id": "ce40d10754e8410799c9b8c1a52e0f67",
       "version_major": 2,
       "version_minor": 0
      },
      "text/plain": [
       "  0%|          | 0/2 [00:00<?, ?it/s]"
      ]
     },
     "metadata": {},
     "output_type": "display_data"
    },
    {
     "data": {
      "text/plain": [
       "DatasetDict({\n",
       "    train: Dataset({\n",
       "        features: ['image', 'label'],\n",
       "        num_rows: 60000\n",
       "    })\n",
       "    test: Dataset({\n",
       "        features: ['image', 'label'],\n",
       "        num_rows: 10000\n",
       "    })\n",
       "})"
      ]
     },
     "execution_count": 11,
     "metadata": {},
     "output_type": "execute_result"
    }
   ],
   "source": [
    "dsd = load_dataset(name)\n",
    "dsd"
   ]
  },
  {
   "cell_type": "code",
   "execution_count": 12,
   "id": "6551c90d-501f-4b6f-88cf-128a9ff53dc5",
   "metadata": {
    "tags": []
   },
   "outputs": [
    {
     "data": {
      "text/plain": [
       "{'image': <PIL.PngImagePlugin.PngImageFile image mode=L size=28x28>,\n",
       " 'label': 9}"
      ]
     },
     "execution_count": 12,
     "metadata": {},
     "output_type": "execute_result"
    }
   ],
   "source": [
    "train, test = dsd['train'], dsd['test']\n",
    "train[0]"
   ]
  },
  {
   "cell_type": "code",
   "execution_count": 13,
   "id": "203bb3dd-85bb-4111-af7c-d9fc08154cfb",
   "metadata": {
    "tags": []
   },
   "outputs": [],
   "source": [
    "x, y = ds_builder.info.features"
   ]
  },
  {
   "cell_type": "code",
   "execution_count": 14,
   "id": "e1fb5857-3fc3-4a7c-bafd-856a9a02cc9c",
   "metadata": {
    "tags": []
   },
   "outputs": [
    {
     "data": {
      "text/plain": [
       "('image', 'label')"
      ]
     },
     "execution_count": 14,
     "metadata": {},
     "output_type": "execute_result"
    }
   ],
   "source": [
    "x, y"
   ]
  },
  {
   "cell_type": "code",
   "execution_count": 17,
   "id": "ab769097-0d91-4d1c-ac2f-0e2b732d056f",
   "metadata": {
    "tags": []
   },
   "outputs": [
    {
     "data": {
      "image/png": "[encoded data removed]",
      "text/plain": [
       "<PIL.PngImagePlugin.PngImageFile image mode=L size=28x28>"
      ]
     },
     "execution_count": 17,
     "metadata": {},
     "output_type": "execute_result"
    }
   ],
   "source": [
    "img = train[69][x]\n",
    "img"
   ]
  },
  {
   "cell_type": "code",
   "execution_count": 18,
   "id": "186a3e1c-e89f-47c9-94f8-67673a0e78fd",
   "metadata": {
    "tags": []
   },
   "outputs": [
    {
     "data": {
      "text/plain": [
       "[9, 0, 0, 3, 0]"
      ]
     },
     "execution_count": 18,
     "metadata": {},
     "output_type": "execute_result"
    }
   ],
   "source": [
    "xb = train[:5][x]\n",
    "yb = train[:5][y]\n",
    "yb"
   ]
  },
  {
   "cell_type": "code",
   "execution_count": 20,
   "id": "dd3fe4cc-f9b7-4463-996b-9d45776fc467",
   "metadata": {
    "tags": []
   },
   "outputs": [
    {
     "data": {
      "text/plain": [
       "ClassLabel(num_classes=10, names=['T - shirt / top', 'Trouser', 'Pullover', 'Dress', 'Coat', 'Sandal', 'Shirt', 'Sneaker', 'Bag', 'Ankle boot'], id=None)"
      ]
     },
     "execution_count": 20,
     "metadata": {},
     "output_type": "execute_result"
    }
   ],
   "source": [
    "featy = train.features[y]; featy"
   ]
  },
  {
   "cell_type": "code",
   "execution_count": 21,
   "id": "6cb3899a-fdef-4811-b496-1fec8986ae82",
   "metadata": {
    "tags": []
   },
   "outputs": [
    {
     "data": {
      "text/plain": [
       "['Ankle boot',\n",
       " 'T - shirt / top',\n",
       " 'T - shirt / top',\n",
       " 'Dress',\n",
       " 'T - shirt / top']"
      ]
     },
     "execution_count": 21,
     "metadata": {},
     "output_type": "execute_result"
    }
   ],
   "source": [
    "featy.int2str(yb)"
   ]
  },
  {
   "cell_type": "code",
   "execution_count": 22,
   "id": "f34dc1a2-a34a-4893-9065-8bd9e5f69249",
   "metadata": {
    "tags": []
   },
   "outputs": [
    {
     "data": {
      "text/plain": [
       "[9, 0, 0, 3, 0]"
      ]
     },
     "execution_count": 22,
     "metadata": {},
     "output_type": "execute_result"
    }
   ],
   "source": [
    "train['label'][:5]"
   ]
  },
  {
   "cell_type": "code",
   "execution_count": 23,
   "id": "87c03b58-7029-4918-b895-f7a485f7ddce",
   "metadata": {
    "tags": []
   },
   "outputs": [],
   "source": [
    "def collate_fn(b):\n",
    "    return {\n",
    "        x: torch.stack([TF.to_tensor(o[x]) for o in b]),\n",
    "        y: tensor([o[y] for o in b])\n",
    "    }"
   ]
  },
  {
   "cell_type": "code",
   "execution_count": 24,
   "id": "8aa3e736-c052-44b7-8f67-57c5832201c2",
   "metadata": {
    "tags": []
   },
   "outputs": [
    {
     "data": {
      "text/plain": [
       "(torch.Size([16, 1, 28, 28]),\n",
       " tensor([9, 0, 0, 3, 0, 2, 7, 2, 5, 5, 0, 9, 5, 5, 7, 9]))"
      ]
     },
     "execution_count": 24,
     "metadata": {},
     "output_type": "execute_result"
    }
   ],
   "source": [
    "dl = DataLoader(train, collate_fn=collate_fn, batch_size=16)\n",
    "b = next(iter(dl))\n",
    "b[x].shape, b[y]"
   ]
  },
  {
   "cell_type": "code",
   "execution_count": 25,
   "id": "eec32931-41d9-47c5-b1fa-8a378fa45a37",
   "metadata": {
    "tags": []
   },
   "outputs": [],
   "source": [
    "def transforms(b):\n",
    "    b[x] = [TF.to_tensor(o) for o in b[x]]\n",
    "    return b"
   ]
  },
  {
   "cell_type": "code",
   "execution_count": 26,
   "id": "34447d70-3316-415e-9d2e-fef6fba076c9",
   "metadata": {
    "tags": []
   },
   "outputs": [
    {
     "data": {
      "text/plain": [
       "(torch.Size([16, 1, 28, 28]),\n",
       " tensor([9, 0, 0, 3, 0, 2, 7, 2, 5, 5, 0, 9, 5, 5, 7, 9]))"
      ]
     },
     "execution_count": 26,
     "metadata": {},
     "output_type": "execute_result"
    }
   ],
   "source": [
    "tds = train.with_transform(transforms)\n",
    "dl = DataLoader(tds, batch_size=16)\n",
    "b = next(iter(dl))\n",
    "b[x].shape, b[y]"
   ]
  },
  {
   "cell_type": "code",
   "execution_count": 27,
   "id": "11edb4cb-d6fc-4a3d-b950-bf7744e7d889",
   "metadata": {
    "tags": []
   },
   "outputs": [],
   "source": [
    "def _transformi(b): b[x] = [torch.flatten(TF.to_tensor(o)) for o in b[x]]"
   ]
  },
  {
   "cell_type": "code",
   "execution_count": 28,
   "id": "215dd00a-bcdc-40f8-b072-851deb200c0c",
   "metadata": {
    "tags": []
   },
   "outputs": [],
   "source": [
    "#|export\n",
    "def inplace(f):\n",
    "    def _f(b):\n",
    "        f(b)\n",
    "        return b\n",
    "    return _f"
   ]
  },
  {
   "cell_type": "code",
   "execution_count": 29,
   "id": "f2f6063b-2b8b-4d57-a97a-40015f13fc30",
   "metadata": {
    "tags": []
   },
   "outputs": [],
   "source": [
    "transformi = inplace(_transformi)"
   ]
  },
  {
   "cell_type": "code",
   "execution_count": 30,
   "id": "6ae235a1-4a78-48ac-92d5-6e9758259b93",
   "metadata": {
    "tags": []
   },
   "outputs": [
    {
     "data": {
      "text/plain": [
       "(torch.Size([784]), 9)"
      ]
     },
     "execution_count": 30,
     "metadata": {},
     "output_type": "execute_result"
    }
   ],
   "source": [
    "r = train.with_transform(transformi)[0]\n",
    "r[x].shape, r[y]"
   ]
  },
  {
   "cell_type": "code",
   "execution_count": 31,
   "id": "c8c5c831-c523-4d72-8605-78c86b7f052a",
   "metadata": {
    "tags": []
   },
   "outputs": [],
   "source": [
    "@inplace\n",
    "def transformi(b):\n",
    "    b[x] = [torch.flatten(TF.to_tensor(o)) for o in b[x]]"
   ]
  },
  {
   "cell_type": "code",
   "execution_count": 32,
   "id": "e5815a06-dfee-4d27-8bfd-a2e83433bcbd",
   "metadata": {
    "tags": []
   },
   "outputs": [
    {
     "data": {
      "text/plain": [
       "(torch.Size([784]), 9)"
      ]
     },
     "execution_count": 32,
     "metadata": {},
     "output_type": "execute_result"
    }
   ],
   "source": [
    "tdsf = train.with_transform(transformi)\n",
    "r = tdsf[0]\n",
    "r[x].shape, r[y]"
   ]
  },
  {
   "cell_type": "code",
   "execution_count": 35,
   "id": "269f465a-8ea9-453a-be65-6fe00e21e722",
   "metadata": {
    "tags": []
   },
   "outputs": [],
   "source": [
    "#|export\n",
    "def collate_dict(ds):\n",
    "    get = itemgetter(*ds.features)\n",
    "    def _f(b): return get(default_collate(b))\n",
    "    return _f"
   ]
  },
  {
   "cell_type": "code",
   "execution_count": 36,
   "id": "1bb2797f-22f2-465e-a183-1b029e48fc64",
   "metadata": {
    "tags": []
   },
   "outputs": [
    {
     "data": {
      "text/plain": [
       "(torch.Size([4, 784]), tensor([9, 0, 0, 3]))"
      ]
     },
     "execution_count": 36,
     "metadata": {},
     "output_type": "execute_result"
    }
   ],
   "source": [
    "dlf = DataLoader(tdsf, batch_size=4, collate_fn=collate_dict(tdsf))\n",
    "xb, yb = next(iter(dlf))\n",
    "xb.shape, yb"
   ]
  },
  {
   "cell_type": "markdown",
   "id": "599e6085-0e8f-4881-b733-8b97e6681ff7",
   "metadata": {},
   "source": [
    "# Plotting Images"
   ]
  },
  {
   "cell_type": "code",
   "execution_count": 37,
   "id": "c1697386-4a59-4410-a91a-7368b46a281e",
   "metadata": {
    "tags": []
   },
   "outputs": [
    {
     "data": {
      "image/png": "[encoded data removed]",
      "text/plain": [
       "<Figure size 432x288 with 1 Axes>"
      ]
     },
     "metadata": {
      "needs_background": "light"
     },
     "output_type": "display_data"
    }
   ],
   "source": [
    "b = next(iter(dl))\n",
    "xb = b['image']\n",
    "img = xb[0]\n",
    "plt.imshow(img[0]);"
   ]
  },
  {
   "cell_type": "code",
   "execution_count": 48,
   "id": "6384f66a-1f94-4076-961d-09649c55ffac",
   "metadata": {
    "tags": []
   },
   "outputs": [],
   "source": [
    "#|export\n",
    "@fc.delegates(plt.Axes.imshow)\n",
    "def show_image(im, ax=None, figsize=None, title=None, noframe=True, **kwargs):\n",
    "    \"\"\" Show a PIL or PyTorch image on `ax` \"\"\"\n",
    "    if fc.hasattrs(im, ('cpu', 'permute', 'detach')):\n",
    "        im = im.detach().cpu()\n",
    "        if len(im.shape) == 3 and im.shape[0] < 5: im = im.permute(1, 2, 0)\n",
    "    elif not isinstance(im, np.ndarray): im = np.array(im)\n",
    "    if im.shape[-1] == 1: im = im[..., 0]\n",
    "    if ax is None: _, ax = plt.subplots(figsize=figsize)\n",
    "    ax.imshow(im, **kwargs)\n",
    "    if title is not None: ax.set_title(title)\n",
    "    ax.set_xticks([])\n",
    "    ax.set_yticks([])\n",
    "    if noframe: ax.axis('off')\n",
    "    return ax"
   ]
  },
  {
   "cell_type": "code",
   "execution_count": 49,
   "id": "f01bbe53-c3eb-45e7-bc75-abf89e79707c",
   "metadata": {
    "tags": []
   },
   "outputs": [
    {
     "name": "stdout",
     "output_type": "stream",
     "text": [
      "Help on function show_image in module __main__:\n",
      "\n",
      "show_image(im, ax=None, figsize=None, title=None, noframe=True, *, cmap=None, norm=None, aspect=None, interpolation=None, alpha=None, vmin=None, vmax=None, origin=None, extent=None, interpolation_stage=None, filternorm=True, filterrad=4.0, resample=None, url=None, data=None)\n",
      "    Show a PIL or PyTorch image on `ax`\n",
      "\n"
     ]
    }
   ],
   "source": [
    "help(show_image)"
   ]
  },
  {
   "cell_type": "code",
   "execution_count": 50,
   "id": "e9a1b9c8-1ff2-429e-899f-b8fcefc5ea30",
   "metadata": {
    "tags": []
   },
   "outputs": [
    {
     "data": {
      "image/png": "[encoded data removed]",
      "text/plain": [
       "<Figure size 144x144 with 1 Axes>"
      ]
     },
     "metadata": {},
     "output_type": "display_data"
    }
   ],
   "source": [
    "show_image(img, figsize=(2,2));"
   ]
  },
  {
   "cell_type": "code",
   "execution_count": 51,
   "id": "403315b0-e721-45ab-90d5-a182dc4286ee",
   "metadata": {
    "tags": []
   },
   "outputs": [
    {
     "data": {
      "image/png": "[encoded data removed]",
      "text/plain": [
       "<Figure size 432x288 with 2 Axes>"
      ]
     },
     "metadata": {},
     "output_type": "display_data"
    }
   ],
   "source": [
    "fig, axs = plt.subplots(1, 2)\n",
    "show_image(img, axs[0])\n",
    "show_image(xb[1], axs[1]);"
   ]
  },
  {
   "cell_type": "code",
   "execution_count": 52,
   "id": "227e36f4-40c9-4f7d-938f-e82cb563bc09",
   "metadata": {
    "tags": []
   },
   "outputs": [],
   "source": [
    "#|export\n",
    "@fc.delegates(plt.subplots, keep=True)\n",
    "def subplots(\n",
    "    nrows:int=1, # Num of rows in returned axes grid\n",
    "    ncols:int=1, # Num of cols in returned axes grid\n",
    "    figsize:tuple=None, # Width, height in inches of the returned figure\n",
    "    imsize:int=3, # Size (in inches) of images that will be displayed in the returned figure\n",
    "    suptitle:str=None, # Title to be set to returned figure\n",
    "    **kwargs\n",
    "): # fig and axs\n",
    "    \"\"\" A figure and set of subplots to display images of `imsize` inches. \"\"\"\n",
    "    if figsize is None: figsize=(ncols*imsize, nrows*imsize)\n",
    "    fig, ax = plt.subplots(nrows, ncols, figsize=figsize, **kwargs)\n",
    "    if suptitle is not None: fig.suptitle(suptitle)\n",
    "    if nrows*ncols==1: ax = np.array([ax])\n",
    "    return fig, ax"
   ]
  },
  {
   "cell_type": "code",
   "execution_count": 53,
   "id": "7a793f97-37d3-4385-bf92-7cf8c59f50a8",
   "metadata": {
    "tags": []
   },
   "outputs": [],
   "source": [
    "from nbdev.showdoc import show_doc"
   ]
  },
  {
   "cell_type": "code",
   "execution_count": 54,
   "id": "e70725bf-456d-4ea4-949c-5a2865a4e871",
   "metadata": {
    "tags": []
   },
   "outputs": [
    {
     "data": {
      "text/markdown": [
       "---\n",
       "\n",
       "### subplots\n",
       "\n",
       ">      subplots (nrows:int=1, ncols:int=1, figsize:tuple=None, imsize:int=3,\n",
       ">                suptitle:str=None, sharex=False, sharey=False, squeeze=True,\n",
       ">                width_ratios=None, height_ratios=None, subplot_kw=None,\n",
       ">                gridspec_kw=None, **kwargs)\n",
       "\n",
       "A figure and set of subplots to display images of `imsize` inches.\n",
       "\n",
       "|    | **Type** | **Default** | **Details** |\n",
       "| -- | -------- | ----------- | ----------- |\n",
       "| nrows | int | 1 | Num of rows in returned axes grid |\n",
       "| ncols | int | 1 | Num of cols in returned axes grid |\n",
       "| figsize | tuple | None | Width, height in inches of the returned figure |\n",
       "| imsize | int | 3 | Size (in inches) of images that will be displayed in the returned figure |\n",
       "| suptitle | str | None | Title to be set to returned figure |\n",
       "| sharex | bool | False |  |\n",
       "| sharey | bool | False |  |\n",
       "| squeeze | bool | True |  |\n",
       "| width_ratios | NoneType | None |  |\n",
       "| height_ratios | NoneType | None |  |\n",
       "| subplot_kw | NoneType | None |  |\n",
       "| gridspec_kw | NoneType | None |  |\n",
       "| kwargs |  |  |  |"
      ],
      "text/plain": [
       "---\n",
       "\n",
       "### subplots\n",
       "\n",
       ">      subplots (nrows:int=1, ncols:int=1, figsize:tuple=None, imsize:int=3,\n",
       ">                suptitle:str=None, sharex=False, sharey=False, squeeze=True,\n",
       ">                width_ratios=None, height_ratios=None, subplot_kw=None,\n",
       ">                gridspec_kw=None, **kwargs)\n",
       "\n",
       "A figure and set of subplots to display images of `imsize` inches.\n",
       "\n",
       "|    | **Type** | **Default** | **Details** |\n",
       "| -- | -------- | ----------- | ----------- |\n",
       "| nrows | int | 1 | Num of rows in returned axes grid |\n",
       "| ncols | int | 1 | Num of cols in returned axes grid |\n",
       "| figsize | tuple | None | Width, height in inches of the returned figure |\n",
       "| imsize | int | 3 | Size (in inches) of images that will be displayed in the returned figure |\n",
       "| suptitle | str | None | Title to be set to returned figure |\n",
       "| sharex | bool | False |  |\n",
       "| sharey | bool | False |  |\n",
       "| squeeze | bool | True |  |\n",
       "| width_ratios | NoneType | None |  |\n",
       "| height_ratios | NoneType | None |  |\n",
       "| subplot_kw | NoneType | None |  |\n",
       "| gridspec_kw | NoneType | None |  |\n",
       "| kwargs |  |  |  |"
      ]
     },
     "execution_count": 54,
     "metadata": {},
     "output_type": "execute_result"
    }
   ],
   "source": [
    "show_doc(subplots)"
   ]
  },
  {
   "cell_type": "code",
   "execution_count": 55,
   "id": "032e7baa-da85-4cd2-aed7-1a63a88f34c1",
   "metadata": {
    "tags": []
   },
   "outputs": [
    {
     "data": {
      "image/png": "[encoded data removed]",
      "text/plain": [
       "<Figure size 216x216 with 9 Axes>"
      ]
     },
     "metadata": {
      "needs_background": "light"
     },
     "output_type": "display_data"
    }
   ],
   "source": [
    "fig, axs = subplots(3, 3, imsize=1)\n",
    "imgs = xb[:8]\n",
    "for ax, img in zip(axs.flat, imgs):\n",
    "    show_image(img, ax)"
   ]
  },
  {
   "cell_type": "code",
   "execution_count": 56,
   "id": "5f1722bf-885e-4936-9cef-330201a32d2b",
   "metadata": {
    "tags": []
   },
   "outputs": [],
   "source": [
    "#|export\n",
    "@fc.delegates(subplots)\n",
    "def get_grid(\n",
    "    n:int,                    # Num of axes\n",
    "    nrows:int=None,           # Num of rows, defaulting to `int(math.sqrt(n))`\n",
    "    ncols:int=None,           # Num of cols, defaulting to `ceil(n/rows)`\n",
    "    title:str=None,           # If passed, title set to the figure\n",
    "    weight:str='bold',        # Title font weight\n",
    "    size:int=14,              # Title font size\n",
    "    **kwargs\n",
    "): # fig and axs\n",
    "    \"\"\" Return a grid of `n` axes, `rows` by `cols` \"\"\"\n",
    "    if nrows: ncols = ncols or int(np.floor(n/nrows))\n",
    "    elif ncols: nrows = nrows or int(np.ceil(n/ncols))\n",
    "    else:\n",
    "        nrows = int(math.sqrt(n))\n",
    "        ncols = int(np.floor(n/nrows))\n",
    "    fig, axs = subplots(nrows, ncols, **kwargs)\n",
    "    for i in range(n, nrows*ncols): axs.flat[i].set_axis_off()\n",
    "    if title is not None: fig.suptitle(title, weight=weight, size=size)\n",
    "    return fig, axs"
   ]
  },
  {
   "cell_type": "code",
   "execution_count": 57,
   "id": "06a1b7ea-cc32-40eb-aaf5-af65b538c61b",
   "metadata": {
    "tags": []
   },
   "outputs": [
    {
     "data": {
      "image/png": "[encoded data removed]",
      "text/plain": [
       "<Figure size 144x216 with 6 Axes>"
      ]
     },
     "metadata": {},
     "output_type": "display_data"
    }
   ],
   "source": [
    "fig, axs = get_grid(8, nrows=3, imsize=1)\n",
    "for ax, img in zip(axs.flat, imgs):\n",
    "    show_image(img, ax)"
   ]
  },
  {
   "cell_type": "code",
   "execution_count": 59,
   "id": "be4bc634-3577-4684-8611-1ce254e74489",
   "metadata": {
    "tags": []
   },
   "outputs": [],
   "source": [
    "#|export\n",
    "@fc.delegates(subplots)\n",
    "def show_images(\n",
    "    ims:list,                   # Images to show\n",
    "    nrows:int|None=None,        # Num of rows in grid\n",
    "    ncols:int|None=None,        # Num of cols in grid(auto-calculated if not provided)\n",
    "    titles:list|None=None,      # Optional list of titles for each image\n",
    "    **kwargs\n",
    "):\n",
    "    \"\"\" Show all images `ims` as subplots with `rows` using `titles` \"\"\"\n",
    "    axs = get_grid(len(ims), nrows, ncols, **kwargs)[1].flat\n",
    "    for im, t, ax in zip_longest(ims, titles or [], axs):\n",
    "        show_image(im, ax=ax, title=t)"
   ]
  },
  {
   "cell_type": "code",
   "execution_count": 60,
   "id": "bf58b854-c314-4def-999b-1f0f251d8ecf",
   "metadata": {
    "tags": []
   },
   "outputs": [],
   "source": [
    "yb = b['label']\n",
    "lbls = yb[:8]"
   ]
  },
  {
   "cell_type": "code",
   "execution_count": 61,
   "id": "a1a5dd01-fc9d-4419-bd2b-ac2677d6ec53",
   "metadata": {
    "tags": []
   },
   "outputs": [
    {
     "data": {
      "text/plain": [
       "tensor([9, 0, 0, 3, 0, 2, 7, 2])"
      ]
     },
     "execution_count": 61,
     "metadata": {},
     "output_type": "execute_result"
    }
   ],
   "source": [
    "lbls"
   ]
  },
  {
   "cell_type": "code",
   "execution_count": 62,
   "id": "1aa1b70b-de17-4ead-8d72-104705d33ec9",
   "metadata": {
    "tags": []
   },
   "outputs": [
    {
     "data": {
      "text/plain": [
       "'Boot Top Top Dress Top Pullover Sneaker Pullover'"
      ]
     },
     "execution_count": 62,
     "metadata": {},
     "output_type": "execute_result"
    }
   ],
   "source": [
    "names = \"Top Trouser Pullover Dress Coat Sandal Shirt Sneaker Bag Boot\".split()\n",
    "titles = itemgetter(*lbls)(names)\n",
    "' '.join(titles)"
   ]
  },
  {
   "cell_type": "code",
   "execution_count": 63,
   "id": "a867c51b-a3dd-4ce8-95b8-b700f203549a",
   "metadata": {
    "tags": []
   },
   "outputs": [
    {
     "data": {
      "image/png": "[encoded data removed]",
      "text/plain": [
       "<Figure size 489.6x244.8 with 8 Axes>"
      ]
     },
     "metadata": {},
     "output_type": "display_data"
    }
   ],
   "source": [
    "show_images(imgs, imsize=1.7, titles=titles)"
   ]
  },
  {
   "cell_type": "code",
   "execution_count": 64,
   "id": "086db3d1-1c63-4a40-8b1e-9b9d673df859",
   "metadata": {
    "tags": []
   },
   "outputs": [],
   "source": [
    "#|export\n",
    "class DataLoaders:\n",
    "    def __init__(self, *dls): self.train, self.valid = dls[:2]\n",
    "    \n",
    "    @classmethod\n",
    "    def from_dd(cls, dd, batch_size, as_tuple=True, *kwargs):\n",
    "        f = collate_dict(dd['train'])\n",
    "        return cls(*get_dls(*dd.values(), bs=batch_size, collate_fn=f, **kwargs))"
   ]
  },
  {
   "cell_type": "markdown",
   "id": "24617b22-d815-47e7-ae49-e44a375b9794",
   "metadata": {},
   "source": [
    "# Export -"
   ]
  },
  {
   "cell_type": "code",
   "execution_count": 65,
   "id": "63dd90f8-11db-4631-8f6c-3e76a10a3c87",
   "metadata": {
    "tags": []
   },
   "outputs": [],
   "source": [
    "import nbdev\n",
    "nbdev.nbdev_export()"
   ]
  },
  {
   "cell_type": "code",
   "execution_count": null,
   "id": "387304a8-f791-4fde-ac5f-0d2b9272b361",
   "metadata": {},
   "outputs": [],
   "source": []
  }
 ],
 "metadata": {
  "kernelspec": {
   "display_name": "Python 3 (ipykernel)",
   "language": "python",
   "name": "python3"
  },
  "language_info": {
   "codemirror_mode": {
    "name": "ipython",
    "version": 3
   },
   "file_extension": ".py",
   "mimetype": "text/x-python",
   "name": "python",
   "nbconvert_exporter": "python",
   "pygments_lexer": "ipython3",
   "version": "3.9.18"
  }
 },
 "nbformat": 4,
 "nbformat_minor": 5
}
